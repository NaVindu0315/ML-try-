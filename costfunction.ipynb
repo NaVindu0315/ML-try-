{
 "cells": [
  {
   "cell_type": "code",
   "execution_count": 2,
   "id": "50977a05",
   "metadata": {},
   "outputs": [],
   "source": [
    "import numpy as np\n",
    "import matplotlib.pyplot as plt"
   ]
  },
  {
   "cell_type": "code",
   "execution_count": 3,
   "id": "0fe5f15a",
   "metadata": {},
   "outputs": [],
   "source": [
    "n=5"
   ]
  },
  {
   "cell_type": "code",
   "execution_count": 6,
   "id": "449f3834",
   "metadata": {},
   "outputs": [
    {
     "ename": "ZeroDivisionError",
     "evalue": "division by zero",
     "output_type": "error",
     "traceback": [
      "\u001b[1;31m---------------------------------------------------------------------------\u001b[0m",
      "\u001b[1;31mZeroDivisionError\u001b[0m                         Traceback (most recent call last)",
      "Cell \u001b[1;32mIn[6], line 9\u001b[0m\n\u001b[0;32m      7\u001b[0m \u001b[38;5;28;01mfor\u001b[39;00m i \u001b[38;5;129;01min\u001b[39;00m \u001b[38;5;28mrange\u001b[39m (\u001b[38;5;241m1\u001b[39m,\u001b[38;5;241m101\u001b[39m):\n\u001b[0;32m      8\u001b[0m     y_predict \u001b[38;5;241m=\u001b[39m m\u001b[38;5;241m*\u001b[39mx \u001b[38;5;241m+\u001b[39mc\n\u001b[1;32m----> 9\u001b[0m     cost \u001b[38;5;241m=\u001b[39m (\u001b[38;5;241m1\u001b[39m\u001b[38;5;241m/\u001b[39mn)\u001b[38;5;241m*\u001b[39m \u001b[38;5;28msum\u001b[39m([value \u001b[38;5;241m*\u001b[39m\u001b[38;5;241m*\u001b[39m\u001b[38;5;241m2\u001b[39m \u001b[38;5;28;01mfor\u001b[39;00m value \u001b[38;5;129;01min\u001b[39;00m (y \u001b[38;5;241m-\u001b[39m y_predict)])\n\u001b[0;32m     10\u001b[0m     plt\u001b[38;5;241m.\u001b[39mscatter(m,cost)\n",
      "\u001b[1;31mZeroDivisionError\u001b[0m: division by zero"
     ]
    }
   ],
   "source": [
    "x = np.array([1,2,3,4,5])\n",
    "y = np.array([5,8,11,14,17])\n",
    "m =0 \n",
    "c=0\n",
    "learning_rate = 0.01\n",
    "\n",
    "for i in range (1,101):\n",
    "    y_predict = m*x +c\n",
    "    cost = (1/n)* sum([value **2 for value in (y - y_predict)])\n",
    "    plt.scatter(m,cost)"
   ]
  },
  {
   "cell_type": "code",
   "execution_count": null,
   "id": "70a35172",
   "metadata": {},
   "outputs": [],
   "source": []
  }
 ],
 "metadata": {
  "kernelspec": {
   "display_name": "Python 3 (ipykernel)",
   "language": "python",
   "name": "python3"
  },
  "language_info": {
   "codemirror_mode": {
    "name": "ipython",
    "version": 3
   },
   "file_extension": ".py",
   "mimetype": "text/x-python",
   "name": "python",
   "nbconvert_exporter": "python",
   "pygments_lexer": "ipython3",
   "version": "3.11.4"
  }
 },
 "nbformat": 4,
 "nbformat_minor": 5
}
